{
 "cells": [
  {
   "cell_type": "code",
   "execution_count": 1,
   "metadata": {},
   "outputs": [
    {
     "data": {
      "text/plain": [
       "True"
      ]
     },
     "execution_count": 1,
     "metadata": {},
     "output_type": "execute_result"
    }
   ],
   "source": [
    "from langchain_chroma import Chroma\n",
    "import os\n",
    "from pyprojroot import here\n",
    "from langchain_openai import OpenAIEmbeddings\n",
    "from openai import OpenAI\n",
    "from dotenv import load_dotenv\n",
    "from pprint import pprint\n",
    "load_dotenv()"
   ]
  },
  {
   "cell_type": "markdown",
   "metadata": {},
   "source": [
    "**Load environment variables and configs**"
   ]
  },
  {
   "cell_type": "code",
   "execution_count": 2,
   "metadata": {},
   "outputs": [],
   "source": [
    "openai_api_key = os.getenv(\"OPEN_AI_API_KEY\")\n",
    "if not openai_api_key:\n",
    "    raise ValueError(\"OPEN_AI_API_KEY environment variable not set.\")\n",
    "os.environ['OPENAI_API_KEY'] = openai_api_key\n",
    "\n",
    "EMBEDDING_MODEL = \"text-embedding-3-small\"\n",
    "VECTORDB_DIR = \"data/csv_vectordb\"\n",
    "K = 3"
   ]
  },
  {
   "cell_type": "markdown",
   "metadata": {},
   "source": [
    "**Load the vectorDB**"
   ]
  },
  {
   "cell_type": "code",
   "execution_count": 3,
   "metadata": {},
   "outputs": [
    {
     "name": "stdout",
     "output_type": "stream",
     "text": [
      "Number of vectors in vectordb: 21024 \n",
      "\n",
      "\n"
     ]
    }
   ],
   "source": [
    "vectordb = Chroma(\n",
    "    collection_name=\"csv-rag-chroma\",\n",
    "    persist_directory=str(here(VECTORDB_DIR)),\n",
    "    embedding_function=OpenAIEmbeddings(model=EMBEDDING_MODEL)\n",
    ")\n",
    "print(\"Number of vectors in vectordb:\",\n",
    "      vectordb._collection.count(), \"\\n\\n\")"
   ]
  },
  {
   "cell_type": "markdown",
   "metadata": {},
   "source": [
    "**Sample Query**"
   ]
  },
  {
   "cell_type": "code",
   "execution_count": 4,
   "metadata": {},
   "outputs": [],
   "source": [
    "message = \"How many clusters are there in the data?\""
   ]
  },
  {
   "cell_type": "markdown",
   "metadata": {},
   "source": [
    "**Perform the vector Search**"
   ]
  },
  {
   "cell_type": "code",
   "execution_count": 5,
   "metadata": {},
   "outputs": [],
   "source": [
    "docs = vectordb.similarity_search(message, k=K)"
   ]
  },
  {
   "cell_type": "code",
   "execution_count": 6,
   "metadata": {},
   "outputs": [
    {
     "data": {
      "text/plain": [
       "[Document(metadata={'row': 9989, 'source': 'C:\\\\Users\\\\Devansh1.Sharma\\\\Desktop\\\\Final\\\\data\\\\docs\\\\csv_files\\\\cluster_data.csv'}, page_content='9afe5b1297555a8dd87cbda7672ce36666f0a4689acb3d52072118a06d9a82764a094528875fe0d9326cf8bc5e183e06f9e850ab997e52b3cf6024b\\nESCALATION_ROLE: \\nWAR_ROOM_NOTIFIED: N\\nIS_IMPACT: N\\nPRODUCT_CATEGORY: \\ndescription: Node Network Interface - packets outbound errors on Node nvmbhcicl01n04\\ntitle: Node Network Interface - packets outbound errors on Node nvmbhcicl01n04\\nkpiName: HCIMachine\\nalert_type: Network Interface_packets_outbound_errors\\nip_address: \\nservice_name: \\nclean_description: node network interface packets outbound errors on node nvmbhcicln\\nenhanced_cluster_id: 35\\nenhanced_cluster_name: Cluster_35'),\n",
       " Document(metadata={'row': 7655, 'source': 'C:\\\\Users\\\\Devansh1.Sharma\\\\Desktop\\\\Final\\\\data\\\\docs\\\\csv_files\\\\cluster_data.csv'}, page_content='0\\nMETRIC_ID: 2023021716356527.0\\nASSETID: 202502171559218.0\\nENVIORMENT: Production\\nASSET_TYPE: \\nHIERARCHY_NAME: QUALITY ASSURANCE & TESTING\\nTECHNOLOGY_CATEGORY: Operating System\\nTECHNOLOGY_NAME: RHEL\\nMETRIC_NAME: filesystem_utilization\\nCOLLABORATION_FLAG: Y\\nINSTANCE_ID: 501.0\\nDESCRIPTOR_ID: 202403291558158.0\\nDESCRIPTOR_NAME: Filesystem Utilization Percentage\\nMASTER_ALERT_ID: \\nALERT_UUID: \\nETA_DATE: \\nRACI: {\"A\":[13996],\"R\":[13996],\"I\":[13996]}\\nESCALATION_LEVEL: 0.0\\nESCALATION_SLA: 2025-03-20 11:54:15\\nCLOSED_SLA: 2025-03-20 13:49:15\\nR_UUID: 5ccb571c-1cc0-4c97-b7bd-67e171ff39d1\\nALERT_IMPACT: \\nRECORDID: \\nSERVICE: \\nPURPOSE: 1.0\\nALERT_TEMP1: \\nCOMPONENT_TYPE: \\nCOMPONENT_NAME: \\nCOMPONENT_IP: \\nFEEDBACK: \\nHASH_KEY: c87838dfdd28d2d8a653607e891df5a75f3fa3282cc88a5e010d1b9c2c3358b21f5836d123acc594c4a8ff990ce1b44341e3f8ce90ddf632b36b0354cd579975\\nESCALATION_ROLE: \\nWAR_ROOM_NOTIFIED: N\\nIS_IMPACT: N\\nPRODUCT_CATEGORY: \\ndescription: DL Filesystem Util where kpi is 36\\ntitle: DL Filesystem Util where kpi is 36\\nkpiName: RHEL\\nalert_type: filesystem_utilization\\nip_address: \\nservice_name: \\nclean_description: dl filesystem util where kpi is\\nenhanced_cluster_id: 18\\nenhanced_cluster_name: Cluster_18'),\n",
       " Document(metadata={'row': 5841, 'source': 'C:\\\\Users\\\\Devansh1.Sharma\\\\Desktop\\\\Final\\\\data\\\\docs\\\\csv_files\\\\cluster_data.csv'}, page_content='0\\nMETRIC_ID: 2023021716356527.0\\nASSETID: 202502171559218.0\\nENVIORMENT: Production\\nASSET_TYPE: \\nHIERARCHY_NAME: QUALITY ASSURANCE & TESTING\\nTECHNOLOGY_CATEGORY: Operating System\\nTECHNOLOGY_NAME: RHEL\\nMETRIC_NAME: filesystem_utilization\\nCOLLABORATION_FLAG: Y\\nINSTANCE_ID: 501.0\\nDESCRIPTOR_ID: 202403291558158.0\\nDESCRIPTOR_NAME: Filesystem Utilization Percentage\\nMASTER_ALERT_ID: \\nALERT_UUID: \\nETA_DATE: \\nRACI: {\"A\":[13996],\"R\":[13996],\"I\":[13996]}\\nESCALATION_LEVEL: 0.0\\nESCALATION_SLA: 2025-03-20 11:50:09\\nCLOSED_SLA: 2025-03-20 13:45:09\\nR_UUID: 718268e0-a8bf-4018-a587-d7086d38d5d6\\nALERT_IMPACT: \\nRECORDID: \\nSERVICE: \\nPURPOSE: 1.0\\nALERT_TEMP1: \\nCOMPONENT_TYPE: \\nCOMPONENT_NAME: \\nCOMPONENT_IP: \\nFEEDBACK: \\nHASH_KEY: c87838dfdd28d2d8a653607e891df5a75f3fa3282cc88a5e010d1b9c2c3358b21f5836d123acc594c4a8ff990ce1b44341e3f8ce90ddf632b36b0354cd579975\\nESCALATION_ROLE: \\nWAR_ROOM_NOTIFIED: N\\nIS_IMPACT: N\\nPRODUCT_CATEGORY: \\ndescription: DL Filesystem Util where kpi is 36\\ntitle: DL Filesystem Util where kpi is 36\\nkpiName: RHEL\\nalert_type: filesystem_utilization\\nip_address: \\nservice_name: \\nclean_description: dl filesystem util where kpi is\\nenhanced_cluster_id: 18\\nenhanced_cluster_name: Cluster_18')]"
      ]
     },
     "execution_count": 6,
     "metadata": {},
     "output_type": "execute_result"
    }
   ],
   "source": [
    "docs"
   ]
  },
  {
   "cell_type": "markdown",
   "metadata": {},
   "source": [
    "**Prepare the prompt for the GPT model**"
   ]
  },
  {
   "cell_type": "code",
   "execution_count": 7,
   "metadata": {},
   "outputs": [],
   "source": [
    "question = \"# User new question:\\n\" + message\n",
    "retrieved_content = \"\"\n",
    "for doc in docs:\n",
    "    retrieved_content += f\"{doc.page_content}\\n\\n\"\n",
    "prompt = f\"# Content:\\n{retrieved_content}\\n\\n{question}\""
   ]
  },
  {
   "cell_type": "markdown",
   "metadata": {},
   "source": [
    "Prepared prompt"
   ]
  },
  {
   "cell_type": "code",
   "execution_count": 8,
   "metadata": {},
   "outputs": [
    {
     "name": "stdout",
     "output_type": "stream",
     "text": [
      "# Content:\n",
      "9afe5b1297555a8dd87cbda7672ce36666f0a4689acb3d52072118a06d9a82764a094528875fe0d9326cf8bc5e183e06f9e850ab997e52b3cf6024b\n",
      "ESCALATION_ROLE: \n",
      "WAR_ROOM_NOTIFIED: N\n",
      "IS_IMPACT: N\n",
      "PRODUCT_CATEGORY: \n",
      "description: Node Network Interface - packets outbound errors on Node nvmbhcicl01n04\n",
      "title: Node Network Interface - packets outbound errors on Node nvmbhcicl01n04\n",
      "kpiName: HCIMachine\n",
      "alert_type: Network Interface_packets_outbound_errors\n",
      "ip_address: \n",
      "service_name: \n",
      "clean_description: node network interface packets outbound errors on node nvmbhcicln\n",
      "enhanced_cluster_id: 35\n",
      "enhanced_cluster_name: Cluster_35\n",
      "\n",
      "0\n",
      "METRIC_ID: 2023021716356527.0\n",
      "ASSETID: 202502171559218.0\n",
      "ENVIORMENT: Production\n",
      "ASSET_TYPE: \n",
      "HIERARCHY_NAME: QUALITY ASSURANCE & TESTING\n",
      "TECHNOLOGY_CATEGORY: Operating System\n",
      "TECHNOLOGY_NAME: RHEL\n",
      "METRIC_NAME: filesystem_utilization\n",
      "COLLABORATION_FLAG: Y\n",
      "INSTANCE_ID: 501.0\n",
      "DESCRIPTOR_ID: 202403291558158.0\n",
      "DESCRIPTOR_NAME: Filesystem Utilization Percentage\n",
      "MASTER_ALERT_ID: \n",
      "ALERT_UUID: \n",
      "ETA_DATE: \n",
      "RACI: {\"A\":[13996],\"R\":[13996],\"I\":[13996]}\n",
      "ESCALATION_LEVEL: 0.0\n",
      "ESCALATION_SLA: 2025-03-20 11:54:15\n",
      "CLOSED_SLA: 2025-03-20 13:49:15\n",
      "R_UUID: 5ccb571c-1cc0-4c97-b7bd-67e171ff39d1\n",
      "ALERT_IMPACT: \n",
      "RECORDID: \n",
      "SERVICE: \n",
      "PURPOSE: 1.0\n",
      "ALERT_TEMP1: \n",
      "COMPONENT_TYPE: \n",
      "COMPONENT_NAME: \n",
      "COMPONENT_IP: \n",
      "FEEDBACK: \n",
      "HASH_KEY: c87838dfdd28d2d8a653607e891df5a75f3fa3282cc88a5e010d1b9c2c3358b21f5836d123acc594c4a8ff990ce1b44341e3f8ce90ddf632b36b0354cd579975\n",
      "ESCALATION_ROLE: \n",
      "WAR_ROOM_NOTIFIED: N\n",
      "IS_IMPACT: N\n",
      "PRODUCT_CATEGORY: \n",
      "description: DL Filesystem Util where kpi is 36\n",
      "title: DL Filesystem Util where kpi is 36\n",
      "kpiName: RHEL\n",
      "alert_type: filesystem_utilization\n",
      "ip_address: \n",
      "service_name: \n",
      "clean_description: dl filesystem util where kpi is\n",
      "enhanced_cluster_id: 18\n",
      "enhanced_cluster_name: Cluster_18\n",
      "\n",
      "0\n",
      "METRIC_ID: 2023021716356527.0\n",
      "ASSETID: 202502171559218.0\n",
      "ENVIORMENT: Production\n",
      "ASSET_TYPE: \n",
      "HIERARCHY_NAME: QUALITY ASSURANCE & TESTING\n",
      "TECHNOLOGY_CATEGORY: Operating System\n",
      "TECHNOLOGY_NAME: RHEL\n",
      "METRIC_NAME: filesystem_utilization\n",
      "COLLABORATION_FLAG: Y\n",
      "INSTANCE_ID: 501.0\n",
      "DESCRIPTOR_ID: 202403291558158.0\n",
      "DESCRIPTOR_NAME: Filesystem Utilization Percentage\n",
      "MASTER_ALERT_ID: \n",
      "ALERT_UUID: \n",
      "ETA_DATE: \n",
      "RACI: {\"A\":[13996],\"R\":[13996],\"I\":[13996]}\n",
      "ESCALATION_LEVEL: 0.0\n",
      "ESCALATION_SLA: 2025-03-20 11:50:09\n",
      "CLOSED_SLA: 2025-03-20 13:45:09\n",
      "R_UUID: 718268e0-a8bf-4018-a587-d7086d38d5d6\n",
      "ALERT_IMPACT: \n",
      "RECORDID: \n",
      "SERVICE: \n",
      "PURPOSE: 1.0\n",
      "ALERT_TEMP1: \n",
      "COMPONENT_TYPE: \n",
      "COMPONENT_NAME: \n",
      "COMPONENT_IP: \n",
      "FEEDBACK: \n",
      "HASH_KEY: c87838dfdd28d2d8a653607e891df5a75f3fa3282cc88a5e010d1b9c2c3358b21f5836d123acc594c4a8ff990ce1b44341e3f8ce90ddf632b36b0354cd579975\n",
      "ESCALATION_ROLE: \n",
      "WAR_ROOM_NOTIFIED: N\n",
      "IS_IMPACT: N\n",
      "PRODUCT_CATEGORY: \n",
      "description: DL Filesystem Util where kpi is 36\n",
      "title: DL Filesystem Util where kpi is 36\n",
      "kpiName: RHEL\n",
      "alert_type: filesystem_utilization\n",
      "ip_address: \n",
      "service_name: \n",
      "clean_description: dl filesystem util where kpi is\n",
      "enhanced_cluster_id: 18\n",
      "enhanced_cluster_name: Cluster_18\n",
      "\n",
      "\n",
      "\n",
      "# User new question:\n",
      "How many clusters are there in the data?\n"
     ]
    }
   ],
   "source": [
    "print(prompt)"
   ]
  },
  {
   "cell_type": "markdown",
   "metadata": {},
   "source": [
    "**Pass the prompt to the GPT model and get the response**"
   ]
  },
  {
   "cell_type": "code",
   "execution_count": 9,
   "metadata": {},
   "outputs": [],
   "source": [
    "client = OpenAI()\n",
    "response = client.chat.completions.create(\n",
    "    model=\"gpt-4o-mini\",\n",
    "    messages=[\n",
    "        {\"role\": \"system\", \"content\": \"You will receive a user's query and possible content where the answer might be. If the answer is found, provide it, if not, state that the answer does not exist.\"},\n",
    "        {\"role\": \"user\", \"content\": prompt}\n",
    "    ]\n",
    ")"
   ]
  },
  {
   "cell_type": "markdown",
   "metadata": {},
   "source": [
    "Printing the response"
   ]
  },
  {
   "cell_type": "code",
   "execution_count": 10,
   "metadata": {},
   "outputs": [
    {
     "name": "stdout",
     "output_type": "stream",
     "text": [
      "'There are two clusters in the data: Cluster_35 and Cluster_18.'\n"
     ]
    }
   ],
   "source": [
    "pprint(response.choices[0].message.content)"
   ]
  },
  {
   "cell_type": "markdown",
   "metadata": {},
   "source": [
    "**RAG Tool design using LangChain**"
   ]
  },
  {
   "cell_type": "code",
   "execution_count": 15,
   "metadata": {},
   "outputs": [],
   "source": [
    "from langchain_core.tools import tool\n",
    "\n",
    "@tool\n",
    "def lookup_rag_information(query: str)->str:\n",
    "    \"\"\"Search within the VECTORDB to find the relevant information. Input should be a search query.\"\"\"\n",
    "    vectordb = Chroma(\n",
    "    collection_name=\"csv-rag-chroma\",\n",
    "    persist_directory=str(here(VECTORDB_DIR)),\n",
    "    embedding_function=OpenAIEmbeddings(model=EMBEDDING_MODEL)\n",
    "    )\n",
    "    docs = vectordb.similarity_search(query, k=K)\n",
    "    return \"\\n\\n\".join([doc.page_content for doc in docs])"
   ]
  },
  {
   "cell_type": "code",
   "execution_count": 16,
   "metadata": {},
   "outputs": [
    {
     "name": "stdout",
     "output_type": "stream",
     "text": [
      "lookup_rag_information\n",
      "{'query': {'title': 'Query', 'type': 'string'}}\n",
      "Search within the VECTORDB to find the relevant information. Input should be a search query.\n"
     ]
    }
   ],
   "source": [
    "print(lookup_rag_information.name)\n",
    "print(lookup_rag_information.args)\n",
    "print(lookup_rag_information.description)"
   ]
  },
  {
   "cell_type": "code",
   "execution_count": 17,
   "metadata": {},
   "outputs": [
    {
     "name": "stdout",
     "output_type": "stream",
     "text": [
      "('9afe5b1297555a8dd87cbda7672ce36666f0a4689acb3d52072118a06d9a82764a094528875fe0d9326cf8bc5e183e06f9e850ab997e52b3cf6024b\\n'\n",
      " 'ESCALATION_ROLE: \\n'\n",
      " 'WAR_ROOM_NOTIFIED: N\\n'\n",
      " 'IS_IMPACT: N\\n'\n",
      " 'PRODUCT_CATEGORY: \\n'\n",
      " 'description: Node Network Interface - packets outbound errors on Node '\n",
      " 'nvmbhcicl01n04\\n'\n",
      " 'title: Node Network Interface - packets outbound errors on Node '\n",
      " 'nvmbhcicl01n04\\n'\n",
      " 'kpiName: HCIMachine\\n'\n",
      " 'alert_type: Network Interface_packets_outbound_errors\\n'\n",
      " 'ip_address: \\n'\n",
      " 'service_name: \\n'\n",
      " 'clean_description: node network interface packets outbound errors on node '\n",
      " 'nvmbhcicln\\n'\n",
      " 'enhanced_cluster_id: 35\\n'\n",
      " 'enhanced_cluster_name: Cluster_35\\n'\n",
      " '\\n'\n",
      " '0\\n'\n",
      " 'METRIC_ID: 2023021716356527.0\\n'\n",
      " 'ASSETID: 202502171559218.0\\n'\n",
      " 'ENVIORMENT: Production\\n'\n",
      " 'ASSET_TYPE: \\n'\n",
      " 'HIERARCHY_NAME: QUALITY ASSURANCE & TESTING\\n'\n",
      " 'TECHNOLOGY_CATEGORY: Operating System\\n'\n",
      " 'TECHNOLOGY_NAME: RHEL\\n'\n",
      " 'METRIC_NAME: filesystem_utilization\\n'\n",
      " 'COLLABORATION_FLAG: Y\\n'\n",
      " 'INSTANCE_ID: 501.0\\n'\n",
      " 'DESCRIPTOR_ID: 202403291558158.0\\n'\n",
      " 'DESCRIPTOR_NAME: Filesystem Utilization Percentage\\n'\n",
      " 'MASTER_ALERT_ID: \\n'\n",
      " 'ALERT_UUID: \\n'\n",
      " 'ETA_DATE: \\n'\n",
      " 'RACI: {\"A\":[13996],\"R\":[13996],\"I\":[13996]}\\n'\n",
      " 'ESCALATION_LEVEL: 0.0\\n'\n",
      " 'ESCALATION_SLA: 2025-03-20 11:54:15\\n'\n",
      " 'CLOSED_SLA: 2025-03-20 13:49:15\\n'\n",
      " 'R_UUID: 5ccb571c-1cc0-4c97-b7bd-67e171ff39d1\\n'\n",
      " 'ALERT_IMPACT: \\n'\n",
      " 'RECORDID: \\n'\n",
      " 'SERVICE: \\n'\n",
      " 'PURPOSE: 1.0\\n'\n",
      " 'ALERT_TEMP1: \\n'\n",
      " 'COMPONENT_TYPE: \\n'\n",
      " 'COMPONENT_NAME: \\n'\n",
      " 'COMPONENT_IP: \\n'\n",
      " 'FEEDBACK: \\n'\n",
      " 'HASH_KEY: '\n",
      " 'c87838dfdd28d2d8a653607e891df5a75f3fa3282cc88a5e010d1b9c2c3358b21f5836d123acc594c4a8ff990ce1b44341e3f8ce90ddf632b36b0354cd579975\\n'\n",
      " 'ESCALATION_ROLE: \\n'\n",
      " 'WAR_ROOM_NOTIFIED: N\\n'\n",
      " 'IS_IMPACT: N\\n'\n",
      " 'PRODUCT_CATEGORY: \\n'\n",
      " 'description: DL Filesystem Util where kpi is 36\\n'\n",
      " 'title: DL Filesystem Util where kpi is 36\\n'\n",
      " 'kpiName: RHEL\\n'\n",
      " 'alert_type: filesystem_utilization\\n'\n",
      " 'ip_address: \\n'\n",
      " 'service_name: \\n'\n",
      " 'clean_description: dl filesystem util where kpi is\\n'\n",
      " 'enhanced_cluster_id: 18\\n'\n",
      " 'enhanced_cluster_name: Cluster_18\\n'\n",
      " '\\n'\n",
      " '0\\n'\n",
      " 'METRIC_ID: 2023021716356527.0\\n'\n",
      " 'ASSETID: 202502171559218.0\\n'\n",
      " 'ENVIORMENT: Production\\n'\n",
      " 'ASSET_TYPE: \\n'\n",
      " 'HIERARCHY_NAME: QUALITY ASSURANCE & TESTING\\n'\n",
      " 'TECHNOLOGY_CATEGORY: Operating System\\n'\n",
      " 'TECHNOLOGY_NAME: RHEL\\n'\n",
      " 'METRIC_NAME: filesystem_utilization\\n'\n",
      " 'COLLABORATION_FLAG: Y\\n'\n",
      " 'INSTANCE_ID: 501.0\\n'\n",
      " 'DESCRIPTOR_ID: 202403291558158.0\\n'\n",
      " 'DESCRIPTOR_NAME: Filesystem Utilization Percentage\\n'\n",
      " 'MASTER_ALERT_ID: \\n'\n",
      " 'ALERT_UUID: \\n'\n",
      " 'ETA_DATE: \\n'\n",
      " 'RACI: {\"A\":[13996],\"R\":[13996],\"I\":[13996]}\\n'\n",
      " 'ESCALATION_LEVEL: 0.0\\n'\n",
      " 'ESCALATION_SLA: 2025-03-20 11:50:09\\n'\n",
      " 'CLOSED_SLA: 2025-03-20 13:45:09\\n'\n",
      " 'R_UUID: 718268e0-a8bf-4018-a587-d7086d38d5d6\\n'\n",
      " 'ALERT_IMPACT: \\n'\n",
      " 'RECORDID: \\n'\n",
      " 'SERVICE: \\n'\n",
      " 'PURPOSE: 1.0\\n'\n",
      " 'ALERT_TEMP1: \\n'\n",
      " 'COMPONENT_TYPE: \\n'\n",
      " 'COMPONENT_NAME: \\n'\n",
      " 'COMPONENT_IP: \\n'\n",
      " 'FEEDBACK: \\n'\n",
      " 'HASH_KEY: '\n",
      " 'c87838dfdd28d2d8a653607e891df5a75f3fa3282cc88a5e010d1b9c2c3358b21f5836d123acc594c4a8ff990ce1b44341e3f8ce90ddf632b36b0354cd579975\\n'\n",
      " 'ESCALATION_ROLE: \\n'\n",
      " 'WAR_ROOM_NOTIFIED: N\\n'\n",
      " 'IS_IMPACT: N\\n'\n",
      " 'PRODUCT_CATEGORY: \\n'\n",
      " 'description: DL Filesystem Util where kpi is 36\\n'\n",
      " 'title: DL Filesystem Util where kpi is 36\\n'\n",
      " 'kpiName: RHEL\\n'\n",
      " 'alert_type: filesystem_utilization\\n'\n",
      " 'ip_address: \\n'\n",
      " 'service_name: \\n'\n",
      " 'clean_description: dl filesystem util where kpi is\\n'\n",
      " 'enhanced_cluster_id: 18\\n'\n",
      " 'enhanced_cluster_name: Cluster_18')\n"
     ]
    }
   ],
   "source": [
    "pprint(lookup_rag_information.invoke(\"how many clusters are there in the data?\"))"
   ]
  }
 ],
 "metadata": {
  "kernelspec": {
   "display_name": "Python 3",
   "language": "python",
   "name": "python3"
  },
  "language_info": {
   "codemirror_mode": {
    "name": "ipython",
    "version": 3
   },
   "file_extension": ".py",
   "mimetype": "text/x-python",
   "name": "python",
   "nbconvert_exporter": "python",
   "pygments_lexer": "ipython3",
   "version": "3.11.0"
  }
 },
 "nbformat": 4,
 "nbformat_minor": 2
}
